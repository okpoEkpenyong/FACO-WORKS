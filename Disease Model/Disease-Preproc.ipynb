{
 "cells": [
  {
   "cell_type": "code",
   "execution_count": null,
   "metadata": {},
   "outputs": [],
   "source": [
    "import pandas as pd\n",
    "import numpy as np\n",
    "import math\n",
    "\n",
    "import librosa as lb # https://librosa.github.io/librosa/\n",
    "import soundfile as sf # https://pysoundfile.readthedocs.io/en/latest/\n",
    "\n",
    "import os\n",
    "\n",
    "import matplotlib.pyplot as plt\n",
    "from matplotlib.cbook import boxplot_stats"
   ]
  },
  {
   "cell_type": "code",
   "execution_count": null,
   "metadata": {},
   "outputs": [],
   "source": [
    "## Patient diagnosis.csv\n",
    "\n",
    "diag_csv = '/home/rubn/Desktop/respiratory/Respiratory_Sound_Database/patient_diagnosis.csv'\n",
    "diagnosis = pd.read_csv(diag_csv, names=['pId', 'diagnosis'])\n",
    "diagnosis.head()"
   ]
  },
  {
   "cell_type": "code",
   "execution_count": null,
   "metadata": {},
   "outputs": [],
   "source": [
    "ds = diagnosis['diagnosis'].unique()\n",
    "ds"
   ]
  },
  {
   "cell_type": "code",
   "execution_count": null,
   "metadata": {},
   "outputs": [],
   "source": [
    "## Get text files\n",
    "audio_text_loc = '/home/rubn/Desktop/respiratory/Respiratory_Sound_Database/audio_and_txt_files'\n",
    "files = [s.split('.')[0] for s in os.listdir(path = audio_text_loc) if '.txt' in s]\n",
    "files"
   ]
  },
  {
   "cell_type": "code",
   "execution_count": null,
   "metadata": {},
   "outputs": [],
   "source": [
    "def tokenize_file(filename):\n",
    "    return filename.split('_')"
   ]
  },
  {
   "cell_type": "code",
   "execution_count": null,
   "metadata": {},
   "outputs": [],
   "source": [
    "## Read file\n",
    "\n",
    "files_ = []\n",
    "for f in files:\n",
    "    df = pd.read_csv(audio_text_loc + '/' + f + '.txt', sep='\\t', names=['start', 'end', 'crackles', 'wheezes'])\n",
    "    df['filename'] = f\n",
    "    #get filename features\n",
    "    f_features = tokenize_file(f)\n",
    "    df['pId'] = f_features[0]\n",
    "    df['ac_mode'] = f_features[3]\n",
    "    \n",
    "    files_.append(df)\n",
    "    \n",
    "files_df = pd.concat(files_)\n",
    "files_df.reset_index()\n",
    "files_df.head()"
   ]
  },
  {
   "cell_type": "code",
   "execution_count": null,
   "metadata": {},
   "outputs": [],
   "source": [
    "files_df.info()"
   ]
  },
  {
   "cell_type": "code",
   "execution_count": null,
   "metadata": {},
   "outputs": [],
   "source": [
    "diagnosis.info()"
   ]
  },
  {
   "cell_type": "code",
   "execution_count": null,
   "metadata": {},
   "outputs": [],
   "source": [
    "files_df['pId'] = files_df['pId'].astype('float64')\n",
    "files_df.info()"
   ]
  },
  {
   "cell_type": "code",
   "execution_count": null,
   "metadata": {},
   "outputs": [],
   "source": [
    "files_df = pd.merge(files_df, diagnosis, on='pId')\n",
    "files_df.head()"
   ]
  },
  {
   "cell_type": "code",
   "execution_count": null,
   "metadata": {},
   "outputs": [],
   "source": [
    "## Code from eatmygoose https://www.kaggle.com/eatmygoose/cnn-detection-of-wheezes-and-crackles\n",
    "def slice_data(start, end, raw_data,  sample_rate):\n",
    "    max_ind = len(raw_data) \n",
    "    start_ind = min(int(start * sample_rate), max_ind)\n",
    "    end_ind = min(int(end * sample_rate), max_ind)\n",
    "    return raw_data[start_ind: end_ind]"
   ]
  },
  {
   "cell_type": "code",
   "execution_count": null,
   "metadata": {},
   "outputs": [],
   "source": [
    "files_df['len_per_slice'] = files_df['end'].sub(files_df['start'], axis = 0) \n",
    "max_len_per_slice = max(files_df['len_per_slice'])\n",
    "max_len_per_slice"
   ]
  },
  {
   "cell_type": "code",
   "execution_count": null,
   "metadata": {},
   "outputs": [],
   "source": [
    "plt.scatter(files_df['len_per_slice'], y=files_df.index)"
   ]
  },
  {
   "cell_type": "code",
   "execution_count": null,
   "metadata": {},
   "outputs": [],
   "source": [
    "box = plt.boxplot(files_df['len_per_slice'])"
   ]
  },
  {
   "cell_type": "code",
   "execution_count": null,
   "metadata": {},
   "outputs": [],
   "source": [
    "force_max_len = math.ceil(boxplot_stats(files_df['len_per_slice'])[0]['whishi'])\n",
    "force_max_len"
   ]
  },
  {
   "cell_type": "code",
   "execution_count": null,
   "metadata": {},
   "outputs": [],
   "source": [
    "## Code from danaelisanicolas https://www.kaggle.com/danaelisanicolas/cnn-part-3-create-spectrogram-images/data\n",
    "def compute_len(samp_rate=22050, time=force_max_len, acquisition_mode=0):\n",
    "    '''Computes the supposed length of sliced data\n",
    "        samp_size = sample size from the data\n",
    "        samp_rate = sampling rate. by default since we're working on 24-bit files, we'll use 96kHz\n",
    "        time = length of time for the audio file. by default we'll use the max we have which is 5.48\n",
    "        acquisition_mode = either mono or stereo. 0 for mono, 1 for stereo\n",
    "    '''\n",
    "    comp_len = 0\n",
    "    if acquisition_mode == 1: #ac mode is single channel which means it's 'mono'\n",
    "        comp_len = samp_rate * time\n",
    "    else: #stereo\n",
    "        comp_len = (samp_rate * time) * 2\n",
    "\n",
    "    return comp_len"
   ]
  },
  {
   "cell_type": "code",
   "execution_count": null,
   "metadata": {},
   "outputs": [],
   "source": [
    "## Create output path\n",
    "os.makedirs('output')"
   ]
  },
  {
   "cell_type": "code",
   "execution_count": null,
   "metadata": {},
   "outputs": [],
   "source": [
    "for d in ds:\n",
    "    path = os.path.join('output', d)\n",
    "    os.makedirs(path)"
   ]
  },
  {
   "cell_type": "code",
   "execution_count": null,
   "metadata": {},
   "outputs": [],
   "source": [
    "i = 0 ## Iterator file name\n",
    "\n",
    "for idx, row in files_df.iterrows():\n",
    "    filename = row['filename']\n",
    "    start = row['start']\n",
    "    end = row['end']\n",
    "    diag = row['diagnosis']\n",
    "    \n",
    "    ## Check len and force to 6 sec \n",
    "    if force_max_len < end - start:\n",
    "        end = start + force_max_len\n",
    "    \n",
    "    aud_loc = audio_text_loc + '/' + f + '.wav'\n",
    "    \n",
    "    if idx != 0:\n",
    "        if files_df.iloc[idx-1]['filename'] == filename:\n",
    "            i=i+1\n",
    "        else:\n",
    "            i=0\n",
    "    n_filename = filename + '_' + str(i) + '.wav'\n",
    "    path = 'output/' + diag + '/' + n_filename\n",
    "    \n",
    "    print('processing ' + n_filename + '...')\n",
    "\n",
    "    data, samplingrate = lb.load(aud_loc)\n",
    "    sliced_data = slice_data(start=start, end=end, raw_data=data, sample_rate=samplingrate)\n",
    "    \n",
    "    a_len = compute_len(samp_rate=samplingrate, acquisition_mode=row['ac_mode']=='sc')\n",
    "    padded_data = lb.util.pad_center(sliced_data, a_len)\n",
    "\n",
    "    sf.write(file=path, data=padded_data, samplerate=samplingrate)"
   ]
  },
  {
   "cell_type": "code",
   "execution_count": null,
   "metadata": {},
   "outputs": [],
   "source": [
    "!pip install split_folders"
   ]
  },
  {
   "cell_type": "code",
   "execution_count": null,
   "metadata": {},
   "outputs": [],
   "source": [
    "import split_folders"
   ]
  },
  {
   "cell_type": "code",
   "execution_count": null,
   "metadata": {},
   "outputs": [],
   "source": [
    "os.makedirs('output/train')\n",
    "os.makedirs('output/val')"
   ]
  },
  {
   "cell_type": "code",
   "execution_count": null,
   "metadata": {},
   "outputs": [],
   "source": [
    "audio_loc = '/home/rubn/FACO-WORKS/output/'\n",
    "\n",
    "split_folders.ratio(audio_loc, output='output', seed=42, ratio=(0.8, 0.2))"
   ]
  },
  {
   "cell_type": "code",
   "execution_count": null,
   "metadata": {},
   "outputs": [],
   "source": [
    "import librosa as lb\n",
    "from librosa.display import specshow\n",
    "\n",
    "import matplotlib.pyplot as plt\n",
    "\n",
    "import os\n",
    "from os import listdir\n",
    "from os.path import isfile, join\n",
    "\n",
    "import pandas as pd"
   ]
  },
  {
   "cell_type": "code",
   "execution_count": null,
   "metadata": {},
   "outputs": [],
   "source": [
    "files_loc = '/home/rubn/FACO-WORKS/output/'"
   ]
  },
  {
   "cell_type": "code",
   "execution_count": null,
   "metadata": {},
   "outputs": [],
   "source": [
    "diagnosis_csv = '/home/rubn/Desktop/respiratory/Respiratory_Sound_Database/patient_diagnosis.csv'\n",
    "diagnosis = pd.read_csv(diagnosis_csv, names=['pId', 'diagnosis'])\n",
    "diagnosis.head()"
   ]
  },
  {
   "cell_type": "code",
   "execution_count": null,
   "metadata": {},
   "outputs": [],
   "source": [
    "categories = diagnosis['diagnosis'].unique()\n",
    "categories"
   ]
  },
  {
   "cell_type": "code",
   "execution_count": null,
   "metadata": {},
   "outputs": [],
   "source": [
    "def is_wav(filename):\n",
    "    '''\n",
    "        Checks if files are .wav files\n",
    "        Utility tool in converting wav to png files\n",
    "    '''\n",
    "    return filename.split('.')[-1] == 'wav'"
   ]
  },
  {
   "cell_type": "code",
   "execution_count": null,
   "metadata": {},
   "outputs": [],
   "source": [
    "#create images using librosa spectogram\n",
    "def convert_to_spec_image(file_loc, filename, category, is_train=False, verbose=False):\n",
    "    ''' \n",
    "        Converts audio file to spec image\n",
    "        Input file includes path\n",
    "        Saves the file to a png image in the save_directory\n",
    "    '''\n",
    "    train_ = 'train/'\n",
    "    val_ = 'val/'\n",
    "    \n",
    "    loc = file_loc + train_ + category + '/' + filename\n",
    "    if is_train == False:\n",
    "        loc = file_loc + val_ + category + '/' + filename\n",
    "\n",
    "    if verbose == True:\n",
    "        print('reading and converting ' + filename + '...')\n",
    "        \n",
    "    y, sr = lb.load(loc)\n",
    "\n",
    "    #Plot signal in\n",
    "    plt.figure(figsize=(10,3))\n",
    "    src_ft = lb.stft(y)\n",
    "    src_db = lb.amplitude_to_db(abs(src_ft))\n",
    "    specshow(src_db, sr=sr, x_axis='time', y_axis='hz')  \n",
    "    plt.ylim(0, 5000)\n",
    "    \n",
    "    save_directory = 'output/'\n",
    "    filename_img = filename.split('.wav')[0]\n",
    "    \n",
    "    save_loc = save_directory + train_ + category + '/' + filename_img + '.png'\n",
    "    if is_train == False:\n",
    "        save_loc = save_directory + val_ + category + '/' + filename_img + '.png'\n",
    "        \n",
    "    plt.savefig(save_loc)\n",
    "    \n",
    "    if verbose == True:\n",
    "        print(filename + ' converted!')\n",
    "        \n",
    "    plt.close()"
   ]
  },
  {
   "cell_type": "code",
   "execution_count": null,
   "metadata": {},
   "outputs": [],
   "source": [
    "split = ['train', 'val']\n",
    "\n",
    "for s in split:\n",
    "    for cat in categories:\n",
    "        print('-' * 100)\n",
    "        print('working on ' + cat + '...')\n",
    "        print('-' * 100)\n",
    "\n",
    "        files = [f for f in listdir(files_loc + s + '/' + cat + '/') if isfile(join(files_loc + s + '/' + cat + '/', f)) and is_wav(f)]\n",
    "        for f in files:\n",
    "            convert_to_spec_image(file_loc = files_loc, category=cat, filename=f, is_train=(s == 'train'), verbose=True)"
   ]
  }
 ],
 "metadata": {
  "kernelspec": {
   "display_name": "Python 3",
   "language": "python",
   "name": "python3"
  },
  "language_info": {
   "codemirror_mode": {
    "name": "ipython",
    "version": 3
   },
   "file_extension": ".py",
   "mimetype": "text/x-python",
   "name": "python",
   "nbconvert_exporter": "python",
   "pygments_lexer": "ipython3",
   "version": "3.6.9"
  }
 },
 "nbformat": 4,
 "nbformat_minor": 2
}
