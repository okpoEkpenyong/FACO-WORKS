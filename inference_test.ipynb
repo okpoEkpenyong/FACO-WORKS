{
 "cells": [
  {
   "cell_type": "code",
   "execution_count": 1,
   "metadata": {},
   "outputs": [],
   "source": [
    "%load_ext autoreload\n",
    "%autoreload 2"
   ]
  },
  {
   "cell_type": "code",
   "execution_count": 2,
   "metadata": {},
   "outputs": [],
   "source": [
    "import os, glob\n",
    "import numpy as np\n",
    "from cough_inference import arr2image, get_model"
   ]
  },
  {
   "cell_type": "code",
   "execution_count": 3,
   "metadata": {},
   "outputs": [
    {
     "data": {
      "text/plain": [
       "['imgs/crackles_5048.npy',\n",
       " 'imgs/both_6821.npy',\n",
       " 'imgs/wheezes_6532.npy',\n",
       " 'imgs/none_5852.npy',\n",
       " 'imgs/none_4687.npy',\n",
       " 'imgs/crackles_5690.npy',\n",
       " 'imgs/both_6835.npy',\n",
       " 'imgs/both_6820.npy',\n",
       " 'imgs/wheezes_6786.npy',\n",
       " 'imgs/both_6836.npy']"
      ]
     },
     "execution_count": 3,
     "metadata": {},
     "output_type": "execute_result"
    }
   ],
   "source": [
    "DIR_IMGS = 'imgs'\n",
    "# This is the model\\n\",\n",
    "mdl = 'covid_vgg19_trained_1.pkl'\n",
    "imgs = glob.glob(os.path.join(DIR_IMGS, '*.npy'))\n",
    "# These are images of spectrograms\n",
    "imgs"
   ]
  },
  {
   "cell_type": "code",
   "execution_count": 7,
   "metadata": {},
   "outputs": [
    {
     "data": {
      "image/jpeg": "[encoded data removed]",
      "image/png": "[encoded data removed]",
      "text/plain": [
       "Image (3, 50, 245)"
      ]
     },
     "execution_count": 7,
     "metadata": {},
     "output_type": "execute_result"
    }
   ],
   "source": [
    "# The spectrogram is an array\n",
    "# Load it from disk\n",
    "ind_img = 0\n",
    "arr = np.load(imgs[ind_img])\n",
    "# Convert to image\n",
    "# Not normalized, to plot\n",
    "img_plot = arr2image(arr)\n",
    "# Normalized, to predict\n",
    "img = arr2image(arr, do_normalize=True)\n",
    "img_plot"
   ]
  },
  {
   "cell_type": "code",
   "execution_count": 8,
   "metadata": {},
   "outputs": [
    {
     "data": {
      "text/plain": [
       "('imgs/crackles_5048.npy', Category none, 1.0)"
      ]
     },
     "execution_count": 8,
     "metadata": {},
     "output_type": "execute_result"
    }
   ],
   "source": [
    "# Deserialize the model\n",
    "lrn = get_model(mdl)\n",
    "# Get predictions for the first image\n",
    "cat, ind, prbs = lrn.predict(img)\n",
    "# ind is the index of the predicted category\n",
    "# The model predicts the cat with the maximum prob\n",
    "assert  prbs[ind].item() == prbs.max().item()\n",
    "\n",
    "# The image name shows the real category\n",
    "# After it, we print the predicted category\n",
    "imgs[ind_img], cat, prbs[ind].item()"
   ]
  },
  {
   "cell_type": "code",
   "execution_count": 11,
   "metadata": {},
   "outputs": [
    {
     "name": "stdout",
     "output_type": "stream",
     "text": [
      "image_name predicted_cat probability\n",
      "----------------------------------------\n",
      "imgs/crackles_5048.npy crackles 0.6510400772094727\n",
      "imgs/both_6821.npy both 0.44141432642936707\n",
      "imgs/wheezes_6532.npy wheezes 0.7845106720924377\n",
      "imgs/none_5852.npy wheezes 0.5016433596611023\n",
      "imgs/none_4687.npy none 0.676000714302063\n",
      "imgs/crackles_5690.npy crackles 0.7099245190620422\n",
      "imgs/both_6835.npy both 0.5926534533500671\n",
      "imgs/both_6820.npy both 0.9474961757659912\n",
      "imgs/wheezes_6786.npy both 0.5224534273147583\n",
      "imgs/both_6836.npy both 0.5050758123397827\n"
     ]
    }
   ],
   "source": [
    "# Now predict all of the examples\n",
    "# Filename shows the real category\n",
    "print('image_name', 'predicted_cat', 'probability')\n",
    "print('-' * 40)\n",
    "for i in imgs:\n",
    "    a = np.load(i)\n",
    "    # in fact, results look better if we don _not_ normalize ????\n",
    "    # check that\n",
    "    im = arr2image(a) # do_normalize=True)\n",
    "    c, ind, ps = lrn.predict(im)\n",
    "    print(i, c, ps[ind].item())"
   ]
  },
  {
   "cell_type": "code",
   "execution_count": null,
   "metadata": {},
   "outputs": [],
   "source": []
  }
 ],
 "metadata": {
  "kernelspec": {
   "display_name": "Python 3 (fastai)",
   "language": "python",
   "name": "fastai"
  },
  "language_info": {
   "codemirror_mode": {
    "name": "ipython",
    "version": 3
   },
   "file_extension": ".py",
   "mimetype": "text/x-python",
   "name": "python",
   "nbconvert_exporter": "python",
   "pygments_lexer": "ipython3",
   "version": "3.7.4"
  }
 },
 "nbformat": 4,
 "nbformat_minor": 4
}
